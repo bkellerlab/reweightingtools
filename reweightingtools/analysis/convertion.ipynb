{
 "cells": [
  {
   "cell_type": "code",
   "execution_count": 2,
   "id": "225a0979",
   "metadata": {},
   "outputs": [],
   "source": [
    "from scipy import constants\n",
    "import numpy as np"
   ]
  },
  {
   "cell_type": "code",
   "execution_count": 10,
   "id": "4bd73428",
   "metadata": {},
   "outputs": [],
   "source": [
    "## conversion constants \n",
    "## multiply if you want to apply in -> direction\n",
    "## divide if you want to convert the other <- direction\n",
    "## EXP: [eV A^{-2}] -> [kJ mol^{-1} nm^{-2}] : need to be multiplied \n",
    "## A means Angström\n",
    "\n",
    " \n",
    "A_nm          = 10**(-1) \n",
    "eV_kJmol      = constants.Avogadro*1.60217733e-22 \n",
    "eVA2_kJmolnm2 = eV_kJmol/(A_nm **2) "
   ]
  },
  {
   "cell_type": "code",
   "execution_count": 11,
   "id": "c2fe8827",
   "metadata": {},
   "outputs": [
    {
     "data": {
      "text/plain": [
       "221578.66147691137"
      ]
     },
     "execution_count": 11,
     "metadata": {},
     "output_type": "execute_result"
    }
   ],
   "source": [
    "22.965000*eVA2_kJmolnm2"
   ]
  },
  {
   "cell_type": "code",
   "execution_count": 12,
   "id": "aa7d6621",
   "metadata": {},
   "outputs": [
    {
     "data": {
      "text/plain": [
       "3.9695135539558737"
      ]
     },
     "execution_count": 12,
     "metadata": {},
     "output_type": "execute_result"
    }
   ],
   "source": [
    "383/eV_kJmol\n"
   ]
  },
  {
   "cell_type": "code",
   "execution_count": 14,
   "id": "bb38410a",
   "metadata": {},
   "outputs": [
    {
     "data": {
      "text/plain": [
       "1000000"
      ]
     },
     "execution_count": 14,
     "metadata": {},
     "output_type": "execute_result"
    }
   ],
   "source": [
    "(100)**3"
   ]
  },
  {
   "cell_type": "code",
   "execution_count": null,
   "id": "0fc5c9b2",
   "metadata": {},
   "outputs": [],
   "source": [
    "## Calcium Phosphate Dimers"
   ]
  },
  {
   "cell_type": "code",
   "execution_count": 6,
   "id": "36c04c0b",
   "metadata": {},
   "outputs": [
    {
     "data": {
      "text/plain": [
       "0.01"
      ]
     },
     "execution_count": 6,
     "metadata": {},
     "output_type": "execute_result"
    }
   ],
   "source": [
    "## \tk3bond-bond (eV Å–2)\tk3bond-angle (eV Å–1 rad–1)\tr0 (Å)\tθ0 (deg)\n",
    "## \t2.5983\t3.0\t1.5946\t109.5\n",
    "##"
   ]
  },
  {
   "cell_type": "code",
   "execution_count": null,
   "id": "34828933",
   "metadata": {},
   "outputs": [],
   "source": [
    "## O7-P1-O7\n",
    "## U_{ijk} = 1/2 kth (th_{ijk} - th0)^2 +                      --> k3ath (eV rad–2) = 8.9168\n",
    "##           kbb (r_{ij} - r0) * (r_{jk} - r0) +\n",
    "##           kbth ((r_{ij-r_0} * (r_{jk}r_0)) * (th_{ijk}-th0)\n",
    "\n",
    "\n",
    "\n"
   ]
  },
  {
   "cell_type": "code",
   "execution_count": null,
   "id": "537e8f0c",
   "metadata": {},
   "outputs": [],
   "source": []
  },
  {
   "cell_type": "code",
   "execution_count": null,
   "id": "8576f3c3",
   "metadata": {},
   "outputs": [],
   "source": [
    "## Calcium Sulfate Dimers "
   ]
  },
  {
   "cell_type": "code",
   "execution_count": null,
   "id": "88f3c056",
   "metadata": {},
   "outputs": [],
   "source": [
    "## CaSO4 \n",
    "## Final Force Field Parameters Used in J. Phys. Chem. C 2017, 121, 25956−25966\n",
    "## All intermolecular potentials are truncated at 9 Å using a taper function over \n",
    "## a range of 3 Å.\n",
    "\n",
    "## harmonic bonds \n",
    "## U_{ij} = 1/2 kb (r_{ij} - b0)^2\n",
    "## kb = [eV A^{-2}] =  [kJ mol^{-1} nm^{-2}]; b0 = [A] = 0.1[nm]\n",
    "## Ow Hw : kb = 45.93 eVA^{-2} ; r0= 1.012 A\n",
    "\n",
    "## Morse bond \n",
    "## GROMACS  (nm); (kJ mol-1; (nm-1\n",
    "## D(1-exp(-a(r_{ij}-r0)))^2\n",
    "## S O : D = 5 eV ;  a = 1.2 A^{-1}; r0 = 1.505 A\n",
    "\n",
    "## harmonic angles\n",
    "## GROMACS UNITS :  (deg); (kJ /(molrad^2))\n",
    "## U_{ij} = 1/2 kth (th_{ij} - th0)^2\n",
    "## Hw Ow Hw : kth = 3.29136 eV/rad^{-2}; th0 = 113.24 deg\n",
    "## O S O    :       15                 ;       109.47\n",
    "\n",
    "## Lennard Jones 12 6 \n",
    "## 4 epsilon ((sigma/r)^{12}-(sigma/r)^{6})\n",
    "## Ow Ow : epsilon = 0.00674 eV; sigma = 3.165492 A\n",
    "## Ow Ca :           0.0009500           3.350000\n",
    "\n",
    "## Buckingham\n",
    "## A exp(-r_{ij}/p)-C/r_{ij}^6  \n",
    "## O  O  : A =  103585.02 eV   p = 0.200 A     C = 0 eV/A^{6}\n",
    "## FF1 ---TAKE----------------------------------------------------\n",
    "## Ow O         12534.455133       0.246\n",
    "## O  Ca        1815.6986          0.283373\n",
    "## FF2 -----------------------------------------------------------\n",
    "## Ow O         12634.455133       0.2649\n",
    "## O  Ca        2345.6986          0.283474\n",
    "\n",
    "## The atomic charges (in atomic units) were set to q Ca = +2.0,\n",
    "## q S = +1.36, q O = −0.84 and q Hw = +0.41, q Ow = −0.82."
   ]
  },
  {
   "cell_type": "code",
   "execution_count": 31,
   "id": "b1f30669",
   "metadata": {},
   "outputs": [
    {
     "data": {
      "text/plain": [
       "144728.06105611456"
      ]
     },
     "execution_count": 31,
     "metadata": {},
     "output_type": "execute_result"
    }
   ],
   "source": [
    "eVA2_kJmolnm2 * 15"
   ]
  },
  {
   "cell_type": "code",
   "execution_count": 16,
   "id": "9382f2ca",
   "metadata": {},
   "outputs": [
    {
     "data": {
      "text/plain": [
       "0.10120000000000001"
      ]
     },
     "execution_count": 16,
     "metadata": {},
     "output_type": "execute_result"
    }
   ],
   "source": [
    "1.012*A_nm\n"
   ]
  },
  {
   "cell_type": "code",
   "execution_count": 48,
   "id": "a8428be6",
   "metadata": {},
   "outputs": [
    {
     "data": {
      "text/plain": [
       "0.6503114210121415"
      ]
     },
     "execution_count": 48,
     "metadata": {},
     "output_type": "execute_result"
    }
   ],
   "source": [
    "0.00674* eV_kJmol"
   ]
  },
  {
   "cell_type": "code",
   "execution_count": 45,
   "id": "62374a8e",
   "metadata": {},
   "outputs": [
    {
     "data": {
      "text/plain": [
       "35.28917716225611"
      ]
     },
     "execution_count": 45,
     "metadata": {},
     "output_type": "execute_result"
    }
   ],
   "source": [
    "1/(0.283373 * A_nm )"
   ]
  },
  {
   "cell_type": "code",
   "execution_count": 27,
   "id": "4dc7a2c1",
   "metadata": {},
   "outputs": [
    {
     "data": {
      "text/plain": [
       "1.7187110270099162"
      ]
     },
     "execution_count": 27,
     "metadata": {},
     "output_type": "execute_result"
    }
   ],
   "source": [
    "np.sqrt(1.012**2+1.012**2-1.012*1.012*np.cos(109.47))"
   ]
  },
  {
   "cell_type": "code",
   "execution_count": 46,
   "id": "cfe3f822",
   "metadata": {},
   "outputs": [
    {
     "data": {
      "text/plain": [
       "3.3000000000000003"
      ]
     },
     "execution_count": 46,
     "metadata": {},
     "output_type": "execute_result"
    }
   ],
   "source": [
    "np.sqrt(10.89)"
   ]
  },
  {
   "cell_type": "code",
   "execution_count": null,
   "id": "6994e05d",
   "metadata": {},
   "outputs": [],
   "source": []
  }
 ],
 "metadata": {
  "kernelspec": {
   "display_name": "Python 3 (ipykernel)",
   "language": "python",
   "name": "python3"
  },
  "language_info": {
   "codemirror_mode": {
    "name": "ipython",
    "version": 3
   },
   "file_extension": ".py",
   "mimetype": "text/x-python",
   "name": "python",
   "nbconvert_exporter": "python",
   "pygments_lexer": "ipython3",
   "version": "3.7.12"
  }
 },
 "nbformat": 4,
 "nbformat_minor": 5
}
